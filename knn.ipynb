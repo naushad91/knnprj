{
  "nbformat": 4,
  "nbformat_minor": 0,
  "metadata": {
    "colab": {
      "name": "knn.ipynb",
      "provenance": [],
      "authorship_tag": "ABX9TyO+WKWqi3BeMdzak3wdcTLl",
      "include_colab_link": true
    },
    "kernelspec": {
      "name": "python3",
      "display_name": "Python 3"
    },
    "language_info": {
      "name": "python"
    }
  },
  "cells": [
    {
      "cell_type": "markdown",
      "metadata": {
        "id": "view-in-github",
        "colab_type": "text"
      },
      "source": [
        "<a href=\"https://colab.research.google.com/github/naushad91/knnprj/blob/main/knn.ipynb\" target=\"_parent\"><img src=\"https://colab.research.google.com/assets/colab-badge.svg\" alt=\"Open In Colab\"/></a>"
      ]
    },
    {
      "cell_type": "code",
      "metadata": {
        "id": "bQp-7TBBkGQd"
      },
      "source": [
        "#Importing libraries\n",
        "import pandas as pd\n",
        "import random\n",
        "import numpy as np \n",
        "import matplotlib.pyplot as plt \n",
        "from sklearn.neighbors import KNeighborsClassifier as knn\n",
        "from sklearn import metrics\n",
        "from sklearn.model_selection import train_test_split"
      ],
      "execution_count": null,
      "outputs": []
    },
    {
      "cell_type": "code",
      "metadata": {
        "colab": {
          "base_uri": "https://localhost:8080/"
        },
        "id": "eMzD2HGOkR-r",
        "outputId": "7af397f9-90ee-42d1-cac9-0201923008f9"
      },
      "source": [
        "#importing the dataset\n",
        "dataset = pd.read_csv(\"train.csv\")\n",
        "data = dataset.values[:7000]\n",
        "data.shape"
      ],
      "execution_count": null,
      "outputs": [
        {
          "output_type": "execute_result",
          "data": {
            "text/plain": [
              "(7000, 785)"
            ]
          },
          "metadata": {
            "tags": []
          },
          "execution_count": 56
        }
      ]
    },
    {
      "cell_type": "code",
      "metadata": {
        "id": "lKagc77KlFhd"
      },
      "source": [
        "X, y = data[:,1:], data[:, 0]"
      ],
      "execution_count": null,
      "outputs": []
    },
    {
      "cell_type": "code",
      "metadata": {
        "id": "vmDuIFgrlG4v"
      },
      "source": [
        "#training and test split\n",
        "# X_train, X_test=X[:1000],X[1000:]\n",
        "# y_train,y_test=y[:1000],y[1000:]\n",
        "# print(X_train.shape, y_train.shape)\n",
        "# print(X_test.shape, y_test.shape)\n",
        "# print(y_train)\n",
        "# print(y_test)"
      ],
      "execution_count": null,
      "outputs": []
    },
    {
      "cell_type": "code",
      "metadata": {
        "id": "bM-enZ8alMmw"
      },
      "source": [
        "#training and test split\n",
        "X_train, X_test,y_train,y_test = train_test_split(X,y,test_size = 0.3, random_state = 10)"
      ],
      "execution_count": null,
      "outputs": []
    },
    {
      "cell_type": "code",
      "metadata": {
        "colab": {
          "base_uri": "https://localhost:8080/",
          "height": 295
        },
        "id": "ndC8MasKzGA-",
        "outputId": "ba9507a0-5b71-4d9f-94ae-507eb16c96ea"
      },
      "source": [
        "#Elbow Method for optimal value of k in KMeans\n",
        "def elbow(k):\n",
        "\n",
        "    \n",
        "    error_test = []\n",
        "\n",
        "   \n",
        "    for i in k:\n",
        "       \n",
        "        model = knn(n_neighbors=i)\n",
        "        model.fit(X_train,y_train)\n",
        "         \n",
        "        tmp =model.predict(X_test)\n",
        "        tmp = metrics.accuracy_score(tmp,y_test)\n",
        "        error = 1-tmp\n",
        "        error_test.append(error)\n",
        "    return error_test\n",
        "k = range(1,10)\n",
        "test = elbow(k)\n",
        "plt.plot(k, test)\n",
        "plt.xlabel('K Neighbors')\n",
        "plt.ylabel('Test error')\n",
        "plt.title('Elbow curve for test')\n",
        "plt.show()\n",
        "\n",
        "m={}\n",
        "for i in range(1,10):\n",
        "    m[i]=np.interp(i,k,test)\n",
        "\n",
        "val=1\n",
        "for j in range(1,10):\n",
        "    if(val>m[j]):\n",
        "        val=m[j]\n",
        "        num=j\n"
      ],
      "execution_count": null,
      "outputs": [
        {
          "output_type": "display_data",
          "data": {
            "image/png": "[encoded data removed]",
            "text/plain": [
              "<Figure size 432x288 with 1 Axes>"
            ]
          },
          "metadata": {
            "tags": [],
            "needs_background": "light"
          }
        }
      ]
    },
    {
      "cell_type": "code",
      "metadata": {
        "colab": {
          "base_uri": "https://localhost:8080/"
        },
        "id": "PCjNm6-dlnt7",
        "outputId": "f8d16c49-cad2-4802-b1a0-6e9986c63ed1"
      },
      "source": [
        "model = knn(n_neighbors=num)\n",
        "model.fit(X_train,y_train)\n"
      ],
      "execution_count": null,
      "outputs": [
        {
          "output_type": "execute_result",
          "data": {
            "text/plain": [
              "KNeighborsClassifier(algorithm='auto', leaf_size=30, metric='minkowski',\n",
              "                     metric_params=None, n_jobs=None, n_neighbors=4, p=2,\n",
              "                     weights='uniform')"
            ]
          },
          "metadata": {
            "tags": []
          },
          "execution_count": 51
        }
      ]
    },
    {
      "cell_type": "code",
      "metadata": {
        "colab": {
          "base_uri": "https://localhost:8080/"
        },
        "id": "sMvP8NvJo3Ko",
        "outputId": "6cdd871e-281e-47fb-877e-f94c62f75750"
      },
      "source": [
        "model.score(X_test, y_test)"
      ],
      "execution_count": null,
      "outputs": [
        {
          "output_type": "execute_result",
          "data": {
            "text/plain": [
              "0.8638095238095238"
            ]
          },
          "metadata": {
            "tags": []
          },
          "execution_count": 29
        }
      ]
    },
    {
      "cell_type": "code",
      "metadata": {
        "colab": {
          "base_uri": "https://localhost:8080/",
          "height": 300
        },
        "id": "BcrkTYGpnjRN",
        "outputId": "887d1539-9ce4-474f-fa1c-f1bc432734c9"
      },
      "source": [
        "r=random.randint(0,7000)\n",
        "randomdig=X[r]\n",
        "randomdig_img=randomdig.reshape((28,28))\n",
        "plt.figure()\n",
        "plt.imshow(randomdig_img,cmap='Greens')\n",
        "plt.show()\n",
        "prediction=model.predict([randomdig])\n",
        "print(\"Label:\")\n",
        "print(prediction)"
      ],
      "execution_count": 71,
      "outputs": [
        {
          "output_type": "display_data",
          "data": {
            "image/png": "[encoded data removed]",
            "text/plain": [
              "<Figure size 432x288 with 1 Axes>"
            ]
          },
          "metadata": {
            "tags": [],
            "needs_background": "light"
          }
        },
        {
          "output_type": "stream",
          "text": [
            "Label:\n",
            "[4]\n"
          ],
          "name": "stdout"
        }
      ]
    },
    {
      "cell_type": "code",
      "metadata": {
        "id": "LK97gRE0w04E"
      },
      "source": [
        ""
      ],
      "execution_count": null,
      "outputs": []
    }
  ]
}